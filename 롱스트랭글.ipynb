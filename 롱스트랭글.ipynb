{
  "nbformat": 4,
  "nbformat_minor": 0,
  "metadata": {
    "colab": {
      "provenance": []
    },
    "kernelspec": {
      "name": "python3",
      "display_name": "Python 3"
    },
    "language_info": {
      "name": "python"
    }
  },
  "cells": [
    {
      "cell_type": "code",
      "execution_count": null,
      "metadata": {
        "id": "VV6QPdepCvCU"
      },
      "outputs": [],
      "source": [
        "import numpy as np\n",
        "import matplotlib.pyplot as plt\n",
        "from scipy.stats import norm\n",
        "\n",
        "import tensorflow as tf"
      ]
    },
    {
      "cell_type": "code",
      "source": [
        "def bscall(S, K, T, r, sig):\n",
        "    d1 = (np.log(S/K)+(r+0.5*sig**2)*T)/(sig*np.sqrt(T))\n",
        "    d2 = (np.log(S/K)+(r-0.5*sig**2)*T)/(sig*np.sqrt(T))\n",
        "    return S*norm.cdf(d1)-K*np.exp(-r*T)*norm.cdf(d2)\n",
        "    \n",
        "def bsput(S, K, T, r, sig):\n",
        "    d1 = (np.log(S/K)+(r+0.5*sig**2)*T)/(sig*np.sqrt(T))\n",
        "    d2 = (np.log(S/K)+(r-0.5*sig**2)*T)/(sig*np.sqrt(T))\n",
        "    return K*np.exp(-r*T)*norm.cdf(-d2)-S*norm.cdf(-d1)"
      ],
      "metadata": {
        "id": "MwrvgfOJCx2h"
      },
      "execution_count": null,
      "outputs": []
    },
    {
      "cell_type": "code",
      "source": [
        "S0 = 1\n",
        "K1, K2 = 0.9, 1.1\n",
        "T = 30/365\n",
        "r = 0.0\n",
        "sig = 0.2\n",
        "\n",
        "M = 1000\n",
        "N = 30\n",
        "\n",
        "dt = T/N\n",
        "rdt = r*dt\n",
        "sigsdt = sig * np.sqrt(dt)"
      ],
      "metadata": {
        "id": "xWk7sSINCx63"
      },
      "execution_count": null,
      "outputs": []
    },
    {
      "cell_type": "code",
      "source": [
        "# np.random.seed(1234)\n",
        "\n",
        "# a=[]\n",
        "# S = np.empty([M,N+1])\n",
        "# rv = np.random.normal(r*dt,sigsdt,[M,N])\n",
        "\n",
        "# for i in range(M):\n",
        "#     cost, hedge = 0,0 \n",
        "#     S[i,0] = S0\n",
        "#     for j in range(N):\n",
        "#         S[i,j+1] = S[i,j] * (1+rv[i,j])\n",
        "#     cost = cost + hedge*S[i,N]\n",
        "\n",
        "#     a.append(cost)\n",
        "    \n",
        "# plt.plot(S[:,-1], a, marker=\".\", linestyle='none')  "
      ],
      "metadata": {
        "id": "H0jQ6XoQCx9a"
      },
      "execution_count": null,
      "outputs": []
    },
    {
      "cell_type": "code",
      "source": [
        "np.random.seed(1234)\n",
        "\n",
        "S = np.empty([M,N+1])\n",
        "rv = np.random.normal(r*dt,sigsdt,[M,N])\n",
        "\n",
        "for i in range(M):\n",
        "    S[i,0] = S0\n",
        "    for j in range(N):\n",
        "        S[i,j+1] = S[i,j] * (1+rv[i,j])"
      ],
      "metadata": {
        "id": "9vorMG0uCyAe"
      },
      "execution_count": null,
      "outputs": []
    },
    {
      "cell_type": "code",
      "source": [
        "def delta_model(model_name=None):\n",
        "    price = tf.keras.layers.Input(shape=(1,))\n",
        "    \n",
        "    delta = tf.keras.layers.Dense(32, activation='leaky_relu', use_bias=False)(price)\n",
        "    delta = tf.keras.layers.BatchNormalization()(delta)\n",
        "    delta = tf.keras.layers.Dense(32, activation='leaky_relu', use_bias=False)(delta)\n",
        "    delta = tf.keras.layers.BatchNormalization()(delta)\n",
        "    delta = tf.keras.layers.Dense(32, activation='leaky_relu', use_bias=False)(delta)\n",
        "    delta = tf.keras.layers.Dense(1, activation='tanh')(delta)\n",
        "\n",
        "    return tf.keras.Model(inputs=price, outputs=delta, name=model_name)"
      ],
      "metadata": {
        "id": "6KTF96ZwCyD2"
      },
      "execution_count": null,
      "outputs": []
    },
    {
      "cell_type": "code",
      "source": [
        "price = tf.keras.layers.Input(shape=(1,), name=\"price\")\n",
        "\n",
        "my_input = [price]\n",
        "\n",
        "hedge_cost = tf.keras.layers.Lambda(lambda x: x*0.0)(price)\n",
        "\n",
        "for j in range(N):\n",
        "    delta = delta_model(model_name=\"delta_\"+str(j))(price)\n",
        "\n",
        "    new_price = tf.keras.layers.Input(shape=(1,), name='S'+str(j+1))\n",
        "    my_input += [new_price]\n",
        "\n",
        "    price_inc = tf.keras.layers.Subtract(name='price_inc_'+str(j))([price, new_price])\n",
        "    cost = tf.keras.layers.Multiply(name=\"stock_\"+str(j))([delta, price_inc])\n",
        "    hedge_cost = tf.keras.layers.Add(name='cost_'+str(j))([hedge_cost, cost])\n",
        "\n",
        "    price = new_price\n",
        "\n",
        "payoff = tf.keras.layers.Input(shape=(1,), name='payoff')\n",
        "my_input += [payoff]\n",
        "\n",
        "cum_cost = tf.keras.layers.Add(name=\"hedge_cost_plus_payoff\")([hedge_cost, payoff])\n",
        "\n",
        "model = tf.keras.Model(inputs=my_input, outputs=cum_cost)\n"
      ],
      "metadata": {
        "id": "Z16clhG3F3JA"
      },
      "execution_count": null,
      "outputs": []
    },
    {
      "cell_type": "code",
      "source": [
        "SS = [S[:,i].reshape(M,1) for i in range(N+1)]\n",
        "payoff = np.maximum(-S[:,-1]+K1, 0) + np.maximum(S[:,-1]-K2, 0)\n",
        "x = [SS] + [payoff]\n",
        "y = (bsput(S0, K1, T, r, sig) + bscall(S0, K2, T, r, sig)) * np.ones([M,1])"
      ],
      "metadata": {
        "id": "d-sI7mngF3Lc"
      },
      "execution_count": null,
      "outputs": []
    },
    {
      "cell_type": "code",
      "source": [
        "model.compile(loss='mse', optimizer='adam')"
      ],
      "metadata": {
        "id": "UJn7LS8PF3OC"
      },
      "execution_count": null,
      "outputs": []
    },
    {
      "cell_type": "code",
      "source": [
        "hist = model.fit(x,y, batch_size=32, epochs=100, verbose=True, validation_split=0.2, shuffle=True)"
      ],
      "metadata": {
        "colab": {
          "base_uri": "https://localhost:8080/"
        },
        "id": "fapyk9xVF3Qz",
        "outputId": "7486185d-9d9c-4a87-fa8d-86d2eb8e7371"
      },
      "execution_count": null,
      "outputs": [
        {
          "output_type": "stream",
          "name": "stdout",
          "text": [
            "Epoch 1/100\n",
            "25/25 [==============================] - 19s 123ms/step - loss: 4.7174e-04 - val_loss: 9.8187e-05\n",
            "Epoch 2/100\n",
            "25/25 [==============================] - 1s 31ms/step - loss: 1.3452e-04 - val_loss: 9.5747e-05\n",
            "Epoch 3/100\n",
            "25/25 [==============================] - 1s 32ms/step - loss: 8.2113e-05 - val_loss: 9.8215e-05\n",
            "Epoch 4/100\n",
            "25/25 [==============================] - 1s 32ms/step - loss: 5.3558e-05 - val_loss: 9.8195e-05\n",
            "Epoch 5/100\n",
            "25/25 [==============================] - 1s 32ms/step - loss: 6.3101e-05 - val_loss: 9.6302e-05\n",
            "Epoch 6/100\n",
            "25/25 [==============================] - 1s 30ms/step - loss: 4.9794e-05 - val_loss: 9.8327e-05\n",
            "Epoch 7/100\n",
            "25/25 [==============================] - 1s 25ms/step - loss: 5.8803e-05 - val_loss: 9.2633e-05\n",
            "Epoch 8/100\n",
            "25/25 [==============================] - 1s 26ms/step - loss: 5.4678e-05 - val_loss: 1.0376e-04\n",
            "Epoch 9/100\n",
            "25/25 [==============================] - 1s 26ms/step - loss: 4.9901e-05 - val_loss: 1.0451e-04\n",
            "Epoch 10/100\n",
            "25/25 [==============================] - 1s 25ms/step - loss: 4.3422e-05 - val_loss: 1.0390e-04\n",
            "Epoch 11/100\n",
            "25/25 [==============================] - 1s 32ms/step - loss: 4.0490e-05 - val_loss: 1.0409e-04\n",
            "Epoch 12/100\n",
            "25/25 [==============================] - 1s 31ms/step - loss: 4.2471e-05 - val_loss: 1.0256e-04\n",
            "Epoch 13/100\n",
            "25/25 [==============================] - 1s 33ms/step - loss: 4.5570e-05 - val_loss: 1.0106e-04\n",
            "Epoch 14/100\n",
            "25/25 [==============================] - 1s 31ms/step - loss: 4.1362e-05 - val_loss: 1.0993e-04\n",
            "Epoch 15/100\n",
            "25/25 [==============================] - 1s 27ms/step - loss: 5.4015e-05 - val_loss: 1.3670e-04\n",
            "Epoch 16/100\n",
            "25/25 [==============================] - 1s 27ms/step - loss: 4.1504e-05 - val_loss: 9.3130e-05\n",
            "Epoch 17/100\n",
            "25/25 [==============================] - 1s 26ms/step - loss: 3.9290e-05 - val_loss: 1.3847e-04\n",
            "Epoch 18/100\n",
            "25/25 [==============================] - 1s 31ms/step - loss: 3.4698e-05 - val_loss: 1.1465e-04\n",
            "Epoch 19/100\n",
            "25/25 [==============================] - 1s 31ms/step - loss: 2.8336e-05 - val_loss: 1.4044e-04\n",
            "Epoch 20/100\n",
            "25/25 [==============================] - 1s 28ms/step - loss: 3.1805e-05 - val_loss: 1.3503e-04\n",
            "Epoch 21/100\n",
            "25/25 [==============================] - 1s 26ms/step - loss: 4.2372e-05 - val_loss: 9.6006e-05\n",
            "Epoch 22/100\n",
            "25/25 [==============================] - 1s 26ms/step - loss: 4.1940e-05 - val_loss: 1.1303e-04\n",
            "Epoch 23/100\n",
            "25/25 [==============================] - 1s 26ms/step - loss: 3.8180e-05 - val_loss: 1.0184e-04\n",
            "Epoch 24/100\n",
            "25/25 [==============================] - 1s 27ms/step - loss: 4.3188e-05 - val_loss: 1.1629e-04\n",
            "Epoch 25/100\n",
            "25/25 [==============================] - 1s 27ms/step - loss: 4.7282e-05 - val_loss: 1.7953e-04\n",
            "Epoch 26/100\n",
            "25/25 [==============================] - 1s 26ms/step - loss: 3.4214e-05 - val_loss: 1.6094e-04\n",
            "Epoch 27/100\n",
            "25/25 [==============================] - 1s 26ms/step - loss: 3.9045e-05 - val_loss: 2.1582e-04\n",
            "Epoch 28/100\n",
            "25/25 [==============================] - 1s 28ms/step - loss: 5.0010e-05 - val_loss: 1.8164e-04\n",
            "Epoch 29/100\n",
            "25/25 [==============================] - 1s 26ms/step - loss: 4.5634e-05 - val_loss: 2.2365e-04\n",
            "Epoch 30/100\n",
            "25/25 [==============================] - 1s 26ms/step - loss: 4.1550e-05 - val_loss: 2.8173e-04\n",
            "Epoch 31/100\n",
            "25/25 [==============================] - 1s 27ms/step - loss: 5.0158e-05 - val_loss: 3.3620e-04\n",
            "Epoch 32/100\n",
            "25/25 [==============================] - 1s 26ms/step - loss: 4.4499e-05 - val_loss: 2.9087e-04\n",
            "Epoch 33/100\n",
            "25/25 [==============================] - 1s 32ms/step - loss: 3.9420e-05 - val_loss: 3.1759e-04\n",
            "Epoch 34/100\n",
            "25/25 [==============================] - 1s 34ms/step - loss: 3.7295e-05 - val_loss: 3.2905e-04\n",
            "Epoch 35/100\n",
            "25/25 [==============================] - 1s 32ms/step - loss: 3.7581e-05 - val_loss: 3.7828e-04\n",
            "Epoch 36/100\n",
            "25/25 [==============================] - 1s 26ms/step - loss: 4.2741e-05 - val_loss: 2.8655e-04\n",
            "Epoch 37/100\n",
            "25/25 [==============================] - 1s 31ms/step - loss: 3.1761e-05 - val_loss: 1.8076e-04\n",
            "Epoch 38/100\n",
            "25/25 [==============================] - 1s 30ms/step - loss: 3.1920e-05 - val_loss: 2.3726e-04\n",
            "Epoch 39/100\n",
            "25/25 [==============================] - 1s 26ms/step - loss: 4.0134e-05 - val_loss: 2.0369e-04\n",
            "Epoch 40/100\n",
            "25/25 [==============================] - 1s 26ms/step - loss: 3.7511e-05 - val_loss: 3.1018e-04\n",
            "Epoch 41/100\n",
            "25/25 [==============================] - 1s 30ms/step - loss: 4.1983e-05 - val_loss: 3.6750e-04\n",
            "Epoch 42/100\n",
            "25/25 [==============================] - 1s 35ms/step - loss: 4.1854e-05 - val_loss: 2.3585e-04\n",
            "Epoch 43/100\n",
            "25/25 [==============================] - 1s 30ms/step - loss: 3.2541e-05 - val_loss: 2.9587e-04\n",
            "Epoch 44/100\n",
            "25/25 [==============================] - 1s 32ms/step - loss: 3.6093e-05 - val_loss: 2.4366e-04\n",
            "Epoch 45/100\n",
            "25/25 [==============================] - 1s 32ms/step - loss: 3.5664e-05 - val_loss: 2.3362e-04\n",
            "Epoch 46/100\n",
            "25/25 [==============================] - 1s 31ms/step - loss: 3.9639e-05 - val_loss: 2.4762e-04\n",
            "Epoch 47/100\n",
            "25/25 [==============================] - 1s 32ms/step - loss: 3.0819e-05 - val_loss: 3.3771e-04\n",
            "Epoch 48/100\n",
            "25/25 [==============================] - 1s 31ms/step - loss: 5.3064e-05 - val_loss: 3.1339e-04\n",
            "Epoch 49/100\n",
            "25/25 [==============================] - 1s 27ms/step - loss: 3.7720e-05 - val_loss: 3.3399e-04\n",
            "Epoch 50/100\n",
            "25/25 [==============================] - 1s 27ms/step - loss: 3.0061e-05 - val_loss: 2.3114e-04\n",
            "Epoch 51/100\n",
            "25/25 [==============================] - 1s 26ms/step - loss: 2.9204e-05 - val_loss: 2.2617e-04\n",
            "Epoch 52/100\n",
            "25/25 [==============================] - 1s 32ms/step - loss: 2.6572e-05 - val_loss: 2.0822e-04\n",
            "Epoch 53/100\n",
            "25/25 [==============================] - 1s 32ms/step - loss: 3.1904e-05 - val_loss: 2.6249e-04\n",
            "Epoch 54/100\n",
            "25/25 [==============================] - 1s 30ms/step - loss: 3.9107e-05 - val_loss: 3.2753e-04\n",
            "Epoch 55/100\n",
            "25/25 [==============================] - 1s 27ms/step - loss: 4.4221e-05 - val_loss: 4.3504e-04\n",
            "Epoch 56/100\n",
            "25/25 [==============================] - 1s 34ms/step - loss: 3.8894e-05 - val_loss: 5.5098e-04\n",
            "Epoch 57/100\n",
            "25/25 [==============================] - 1s 32ms/step - loss: 4.0068e-05 - val_loss: 3.0683e-04\n",
            "Epoch 58/100\n",
            "25/25 [==============================] - 1s 32ms/step - loss: 3.6243e-05 - val_loss: 2.6777e-04\n",
            "Epoch 59/100\n",
            "25/25 [==============================] - 1s 33ms/step - loss: 3.3840e-05 - val_loss: 1.9418e-04\n",
            "Epoch 60/100\n",
            "25/25 [==============================] - 1s 33ms/step - loss: 2.7141e-05 - val_loss: 1.9101e-04\n",
            "Epoch 61/100\n",
            "25/25 [==============================] - 1s 28ms/step - loss: 2.9171e-05 - val_loss: 2.8585e-04\n",
            "Epoch 62/100\n",
            "25/25 [==============================] - 1s 29ms/step - loss: 3.1455e-05 - val_loss: 3.1181e-04\n",
            "Epoch 63/100\n",
            "25/25 [==============================] - 1s 42ms/step - loss: 2.7074e-05 - val_loss: 1.8116e-04\n",
            "Epoch 64/100\n",
            "25/25 [==============================] - 1s 38ms/step - loss: 2.6084e-05 - val_loss: 1.6837e-04\n",
            "Epoch 65/100\n",
            "25/25 [==============================] - 1s 41ms/step - loss: 2.7824e-05 - val_loss: 1.3617e-04\n",
            "Epoch 66/100\n",
            "25/25 [==============================] - 1s 27ms/step - loss: 3.0017e-05 - val_loss: 2.3816e-04\n",
            "Epoch 67/100\n",
            "25/25 [==============================] - 1s 33ms/step - loss: 3.3568e-05 - val_loss: 2.3925e-04\n",
            "Epoch 68/100\n",
            "25/25 [==============================] - 1s 30ms/step - loss: 3.1858e-05 - val_loss: 2.4222e-04\n",
            "Epoch 69/100\n",
            "25/25 [==============================] - 1s 27ms/step - loss: 2.5619e-05 - val_loss: 2.3622e-04\n",
            "Epoch 70/100\n",
            "25/25 [==============================] - 1s 27ms/step - loss: 3.1126e-05 - val_loss: 3.1901e-04\n",
            "Epoch 71/100\n",
            "25/25 [==============================] - 1s 31ms/step - loss: 3.2972e-05 - val_loss: 2.9176e-04\n",
            "Epoch 72/100\n",
            "25/25 [==============================] - 1s 33ms/step - loss: 2.6755e-05 - val_loss: 2.6179e-04\n",
            "Epoch 73/100\n",
            "25/25 [==============================] - 1s 31ms/step - loss: 2.8277e-05 - val_loss: 1.8185e-04\n",
            "Epoch 74/100\n",
            "25/25 [==============================] - 1s 26ms/step - loss: 2.4686e-05 - val_loss: 2.2880e-04\n",
            "Epoch 75/100\n",
            "25/25 [==============================] - 1s 32ms/step - loss: 2.5370e-05 - val_loss: 1.4389e-04\n",
            "Epoch 76/100\n",
            "25/25 [==============================] - 1s 29ms/step - loss: 3.0717e-05 - val_loss: 2.6379e-04\n",
            "Epoch 77/100\n",
            "25/25 [==============================] - 1s 26ms/step - loss: 2.9696e-05 - val_loss: 1.6069e-04\n",
            "Epoch 78/100\n",
            "25/25 [==============================] - 1s 33ms/step - loss: 3.2728e-05 - val_loss: 2.0145e-04\n",
            "Epoch 79/100\n",
            "25/25 [==============================] - 1s 30ms/step - loss: 3.4124e-05 - val_loss: 2.6116e-04\n",
            "Epoch 80/100\n",
            "25/25 [==============================] - 1s 27ms/step - loss: 2.9199e-05 - val_loss: 1.9696e-04\n",
            "Epoch 81/100\n",
            "25/25 [==============================] - 1s 25ms/step - loss: 2.4660e-05 - val_loss: 1.7434e-04\n",
            "Epoch 82/100\n",
            "25/25 [==============================] - 1s 27ms/step - loss: 2.4481e-05 - val_loss: 1.9047e-04\n",
            "Epoch 83/100\n",
            "25/25 [==============================] - 1s 27ms/step - loss: 2.7432e-05 - val_loss: 1.5170e-04\n",
            "Epoch 84/100\n",
            "25/25 [==============================] - 1s 32ms/step - loss: 2.5052e-05 - val_loss: 1.6272e-04\n",
            "Epoch 85/100\n",
            "25/25 [==============================] - 1s 31ms/step - loss: 3.6909e-05 - val_loss: 2.6052e-04\n",
            "Epoch 86/100\n",
            "25/25 [==============================] - 1s 30ms/step - loss: 3.3723e-05 - val_loss: 2.5453e-04\n",
            "Epoch 87/100\n",
            "25/25 [==============================] - 1s 26ms/step - loss: 2.9600e-05 - val_loss: 2.1851e-04\n",
            "Epoch 88/100\n",
            "25/25 [==============================] - 1s 27ms/step - loss: 2.9018e-05 - val_loss: 2.7303e-04\n",
            "Epoch 89/100\n",
            "25/25 [==============================] - 1s 26ms/step - loss: 2.6088e-05 - val_loss: 2.5901e-04\n",
            "Epoch 90/100\n",
            "25/25 [==============================] - 1s 25ms/step - loss: 3.1661e-05 - val_loss: 2.1196e-04\n",
            "Epoch 91/100\n",
            "25/25 [==============================] - 1s 27ms/step - loss: 2.9223e-05 - val_loss: 2.0672e-04\n",
            "Epoch 92/100\n",
            "25/25 [==============================] - 1s 26ms/step - loss: 3.4123e-05 - val_loss: 2.0319e-04\n",
            "Epoch 93/100\n",
            "25/25 [==============================] - 1s 25ms/step - loss: 3.5570e-05 - val_loss: 2.8607e-04\n",
            "Epoch 94/100\n",
            "25/25 [==============================] - 1s 33ms/step - loss: 3.2892e-05 - val_loss: 2.3096e-04\n",
            "Epoch 95/100\n",
            "25/25 [==============================] - 1s 28ms/step - loss: 2.5818e-05 - val_loss: 1.8162e-04\n",
            "Epoch 96/100\n",
            "25/25 [==============================] - 1s 26ms/step - loss: 2.6609e-05 - val_loss: 2.0714e-04\n",
            "Epoch 97/100\n",
            "25/25 [==============================] - 1s 28ms/step - loss: 2.8910e-05 - val_loss: 2.3231e-04\n",
            "Epoch 98/100\n",
            "25/25 [==============================] - 1s 27ms/step - loss: 3.7221e-05 - val_loss: 1.6182e-04\n",
            "Epoch 99/100\n",
            "25/25 [==============================] - 1s 27ms/step - loss: 3.5137e-05 - val_loss: 1.8291e-04\n",
            "Epoch 100/100\n",
            "25/25 [==============================] - 1s 32ms/step - loss: 3.3076e-05 - val_loss: 1.5389e-04\n"
          ]
        }
      ]
    },
    {
      "cell_type": "code",
      "source": [
        "plt.plot(hist.history['loss'])\n",
        "plt.show()"
      ],
      "metadata": {
        "colab": {
          "base_uri": "https://localhost:8080/",
          "height": 265
        },
        "id": "yCqfxO4rF9vQ",
        "outputId": "c7227391-a3a2-4386-965f-6f1bf68850eb"
      },
      "execution_count": null,
      "outputs": [
        {
          "output_type": "display_data",
          "data": {
            "image/png": "[encoded data removed]",
            "text/plain": [
              "<Figure size 432x288 with 1 Axes>"
            ]
          },
          "metadata": {
            "needs_background": "light"
          }
        }
      ]
    },
    {
      "cell_type": "code",
      "source": [
        "yhat = model.predict(x)"
      ],
      "metadata": {
        "id": "01jyg5VLF9xv"
      },
      "execution_count": null,
      "outputs": []
    },
    {
      "cell_type": "code",
      "source": [
        "plt.hist(yhat, bins=30); plt.show()"
      ],
      "metadata": {
        "colab": {
          "base_uri": "https://localhost:8080/",
          "height": 265
        },
        "id": "H2xGHMtzF9z2",
        "outputId": "7e00f9d1-98de-414f-a638-e0d58cd21354"
      },
      "execution_count": null,
      "outputs": [
        {
          "output_type": "display_data",
          "data": {
            "image/png": "[encoded data removed]",
            "text/plain": [
              "<Figure size 432x288 with 1 Axes>"
            ]
          },
          "metadata": {
            "needs_background": "light"
          }
        }
      ]
    },
    {
      "cell_type": "code",
      "source": [
        "plt.plot(S[:,-1], yhat, marker='.', linestyle='none'); plt.show()"
      ],
      "metadata": {
        "colab": {
          "base_uri": "https://localhost:8080/",
          "height": 266
        },
        "id": "ae1jpCc-GAHA",
        "outputId": "7c09a9d4-ef06-4097-e4ac-9d33919fd335"
      },
      "execution_count": null,
      "outputs": [
        {
          "output_type": "display_data",
          "data": {
            "image/png": "[encoded data removed]",
            "text/plain": [
              "<Figure size 432x288 with 1 Axes>"
            ]
          },
          "metadata": {
            "needs_background": "light"
          }
        }
      ]
    },
    {
      "cell_type": "code",
      "source": [],
      "metadata": {
        "id": "6yRZuHAdGAKY"
      },
      "execution_count": null,
      "outputs": []
    }
  ]
}