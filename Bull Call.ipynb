{
  "nbformat": 4,
  "nbformat_minor": 0,
  "metadata": {
    "colab": {
      "provenance": []
    },
    "kernelspec": {
      "name": "python3",
      "display_name": "Python 3"
    },
    "language_info": {
      "name": "python"
    }
  },
  "cells": [
    {
      "cell_type": "code",
      "execution_count": null,
      "metadata": {
        "id": "VV6QPdepCvCU"
      },
      "outputs": [],
      "source": [
        "import numpy as np\n",
        "import matplotlib.pyplot as plt\n",
        "from scipy.stats import norm\n",
        "\n",
        "import tensorflow as tf"
      ]
    },
    {
      "cell_type": "code",
      "source": [
        "def bscall(S, K, T, r, sig):\n",
        "    d1 = (np.log(S/K)+(r+0.5*sig**2)*T)/(sig*np.sqrt(T))\n",
        "    d2 = (np.log(S/K)+(r-0.5*sig**2)*T)/(sig*np.sqrt(T))\n",
        "    return S*norm.cdf(d1)-K*np.exp(-r*T)*norm.cdf(d2)\n",
        "    \n",
        "def bsput(S, K, T, r, sig):\n",
        "    d1 = (np.log(S/K)+(r+0.5*sig**2)*T)/(sig*np.sqrt(T))\n",
        "    d2 = (np.log(S/K)+(r-0.5*sig**2)*T)/(sig*np.sqrt(T))\n",
        "    return K*np.exp(-r*T)*norm.cdf(-d2)-S*norm.cdf(-d1)"
      ],
      "metadata": {
        "id": "MwrvgfOJCx2h"
      },
      "execution_count": null,
      "outputs": []
    },
    {
      "cell_type": "code",
      "source": [
        "S0 = 1\n",
        "K1, K2 = 0.9, 1.1\n",
        "T = 30/365\n",
        "r = 0.0\n",
        "sig = 0.2\n",
        "\n",
        "M = 1000\n",
        "N = 30\n",
        "\n",
        "dt = T/N\n",
        "rdt = r*dt\n",
        "sigsdt = sig * np.sqrt(dt)"
      ],
      "metadata": {
        "id": "xWk7sSINCx63"
      },
      "execution_count": null,
      "outputs": []
    },
    {
      "cell_type": "code",
      "source": [
        "np.random.seed(1234)\n",
        "\n",
        "S = np.empty([M,N+1])\n",
        "rv = np.random.normal(r*dt,sigsdt,[M,N])\n",
        "\n",
        "for i in range(M):\n",
        "    S[i,0] = S0\n",
        "    for j in range(N):\n",
        "        S[i,j+1] = S[i,j] * (1+rv[i,j])"
      ],
      "metadata": {
        "id": "9vorMG0uCyAe"
      },
      "execution_count": null,
      "outputs": []
    },
    {
      "cell_type": "code",
      "source": [
        "def delta_model(model_name=None):\n",
        "    price = tf.keras.layers.Input(shape=(1,))\n",
        "    \n",
        "    delta = tf.keras.layers.Dense(32, activation='leaky_relu', use_bias=False)(price)\n",
        "    delta = tf.keras.layers.BatchNormalization()(delta)\n",
        "    delta = tf.keras.layers.Dense(32, activation='leaky_relu', use_bias=False)(delta)\n",
        "    delta = tf.keras.layers.BatchNormalization()(delta)\n",
        "    delta = tf.keras.layers.Dense(32, activation='leaky_relu', use_bias=False)(delta)\n",
        "    delta = tf.keras.layers.Dense(1, activation='tanh')(delta)\n",
        "\n",
        "    return tf.keras.Model(inputs=price, outputs=delta, name=model_name)"
      ],
      "metadata": {
        "id": "6KTF96ZwCyD2"
      },
      "execution_count": null,
      "outputs": []
    },
    {
      "cell_type": "code",
      "source": [
        "price = tf.keras.layers.Input(shape=(1,), name=\"price\")\n",
        "\n",
        "my_input = [price]\n",
        "\n",
        "hedge_cost = tf.keras.layers.Lambda(lambda x: x*0.0)(price)\n",
        "\n",
        "for j in range(N):\n",
        "    delta = delta_model(model_name=\"delta_\"+str(j))(price)\n",
        "\n",
        "    new_price = tf.keras.layers.Input(shape=(1,), name='S'+str(j+1))\n",
        "    my_input += [new_price]\n",
        "\n",
        "    price_inc = tf.keras.layers.Subtract(name='price_inc_'+str(j))([price, new_price])\n",
        "    cost = tf.keras.layers.Multiply(name=\"stock_\"+str(j))([delta, price_inc])\n",
        "    hedge_cost = tf.keras.layers.Add(name='cost_'+str(j))([hedge_cost, cost])\n",
        "\n",
        "    price = new_price\n",
        "\n",
        "payoff = tf.keras.layers.Input(shape=(1,), name='payoff')\n",
        "my_input += [payoff]\n",
        "\n",
        "cum_cost = tf.keras.layers.Add(name=\"hedge_cost_plus_payoff\")([hedge_cost, payoff])\n",
        "\n",
        "model = tf.keras.Model(inputs=my_input, outputs=cum_cost)\n"
      ],
      "metadata": {
        "id": "Z16clhG3F3JA"
      },
      "execution_count": null,
      "outputs": []
    },
    {
      "cell_type": "code",
      "source": [
        "SS = [S[:,i].reshape(M,1) for i in range(N+1)]\n",
        "# payoff = np.maximum(-S[:,-1]+K1, 0) + np.maximum(S[:,-1]-K2, 0) # long strangle\n",
        "# payoff = np.maximum(S[:,-1]-K1, 0) - 2*np.maximum(S[:,-1]-K2, 0) + np.maximum(S[:,-1]-K3, 0) # long call butterfly\n",
        "# payoff = np.maximum(K1-S[:,-1], 0) - np.maximum(K2-S[:,-1], 0) # bear put\n",
        "# payoff = np.maximum(S[:,-1]-K1, 0) - np.maximum(S[:,-1]-K2, 0) - np.maximum(K3-S[:,-1], 0) + np.maximum(K4-S[:,-1], 0) # iron condor\n",
        "payoff = np.maximum(S[:,-1]-K1, 0) - np.maximum(S[:,-1]-K2, 0)\n",
        "x = [SS] + [payoff]\n",
        "# y = (bsput(S0, K1, T, r, sig) + bscall(S0, K2, T, r, sig)) * np.ones([M,1]) # long strangle\n",
        "# y = (bscall(S0, K1, T, r, sig) - 2*bscall(S0, K2, T, r, sig) + bscall(S0, K3, T, r, sig)) * np.ones([M,1]) # long call butterfly\n",
        "# y= (bsput(S0, K2, T, r, sig) - bsput(S0, K1, T, r, sig)) * np.ones([M,1]) # bear put\n",
        "# y = (bscall(S0, K1, T, r, sig) - bscall(S0 ,K2, T, r, sig) - bsput(S0, K3, T, r, sig) + bsput(S0, K4, T, r, sig)) * np.ones([M,1]) # iron condor\n",
        "y = (bscall(S0, K1, T, r, sig) - bscall(S0 ,K2, T, r, sig)) * np.ones([M,1]) "
      ],
      "metadata": {
        "id": "d-sI7mngF3Lc"
      },
      "execution_count": null,
      "outputs": []
    },
    {
      "cell_type": "code",
      "source": [
        "model.compile(loss='mse', optimizer='adam')"
      ],
      "metadata": {
        "id": "UJn7LS8PF3OC"
      },
      "execution_count": null,
      "outputs": []
    },
    {
      "cell_type": "code",
      "source": [
        "hist = model.fit(x,y, batch_size=32, epochs=50, verbose=True, validation_split=0.2, shuffle=True)"
      ],
      "metadata": {
        "colab": {
          "base_uri": "https://localhost:8080/"
        },
        "id": "fapyk9xVF3Qz",
        "outputId": "029504bd-2eb9-47cc-aa44-506d749e4232"
      },
      "execution_count": null,
      "outputs": [
        {
          "output_type": "stream",
          "name": "stdout",
          "text": [
            "Epoch 1/50\n",
            "25/25 [==============================] - 18s 116ms/step - loss: 0.0019 - val_loss: 0.0021\n",
            "Epoch 2/50\n",
            "25/25 [==============================] - 1s 28ms/step - loss: 5.9986e-04 - val_loss: 0.0018\n",
            "Epoch 3/50\n",
            "25/25 [==============================] - 1s 29ms/step - loss: 2.5747e-04 - val_loss: 0.0016\n",
            "Epoch 4/50\n",
            "25/25 [==============================] - 1s 26ms/step - loss: 1.6527e-04 - val_loss: 0.0014\n",
            "Epoch 5/50\n",
            "25/25 [==============================] - 1s 27ms/step - loss: 1.2927e-04 - val_loss: 0.0012\n",
            "Epoch 6/50\n",
            "25/25 [==============================] - 1s 28ms/step - loss: 1.0682e-04 - val_loss: 0.0010\n",
            "Epoch 7/50\n",
            "25/25 [==============================] - 1s 26ms/step - loss: 9.0420e-05 - val_loss: 8.5168e-04\n",
            "Epoch 8/50\n",
            "25/25 [==============================] - 1s 26ms/step - loss: 8.4625e-05 - val_loss: 7.0864e-04\n",
            "Epoch 9/50\n",
            "25/25 [==============================] - 1s 26ms/step - loss: 7.9054e-05 - val_loss: 5.7846e-04\n",
            "Epoch 10/50\n",
            "25/25 [==============================] - 1s 28ms/step - loss: 7.2530e-05 - val_loss: 4.9275e-04\n",
            "Epoch 11/50\n",
            "25/25 [==============================] - 1s 27ms/step - loss: 6.5220e-05 - val_loss: 3.9650e-04\n",
            "Epoch 12/50\n",
            "25/25 [==============================] - 1s 27ms/step - loss: 7.4701e-05 - val_loss: 3.2787e-04\n",
            "Epoch 13/50\n",
            "25/25 [==============================] - 1s 28ms/step - loss: 5.6332e-05 - val_loss: 2.6104e-04\n",
            "Epoch 14/50\n",
            "25/25 [==============================] - 1s 27ms/step - loss: 5.8824e-05 - val_loss: 2.0592e-04\n",
            "Epoch 15/50\n",
            "25/25 [==============================] - 1s 28ms/step - loss: 5.4400e-05 - val_loss: 1.6166e-04\n",
            "Epoch 16/50\n",
            "25/25 [==============================] - 1s 28ms/step - loss: 5.2332e-05 - val_loss: 1.4617e-04\n",
            "Epoch 17/50\n",
            "25/25 [==============================] - 1s 29ms/step - loss: 5.2078e-05 - val_loss: 1.3608e-04\n",
            "Epoch 18/50\n",
            "25/25 [==============================] - 1s 28ms/step - loss: 5.5483e-05 - val_loss: 1.1164e-04\n",
            "Epoch 19/50\n",
            "25/25 [==============================] - 1s 27ms/step - loss: 5.8346e-05 - val_loss: 1.0256e-04\n",
            "Epoch 20/50\n",
            "25/25 [==============================] - 1s 28ms/step - loss: 5.6105e-05 - val_loss: 9.0849e-05\n",
            "Epoch 21/50\n",
            "25/25 [==============================] - 1s 28ms/step - loss: 4.5406e-05 - val_loss: 8.6029e-05\n",
            "Epoch 22/50\n",
            "25/25 [==============================] - 1s 27ms/step - loss: 5.0261e-05 - val_loss: 6.3927e-05\n",
            "Epoch 23/50\n",
            "25/25 [==============================] - 1s 27ms/step - loss: 4.9446e-05 - val_loss: 8.7346e-05\n",
            "Epoch 24/50\n",
            "25/25 [==============================] - 1s 27ms/step - loss: 5.6121e-05 - val_loss: 7.3272e-05\n",
            "Epoch 25/50\n",
            "25/25 [==============================] - 1s 28ms/step - loss: 4.8645e-05 - val_loss: 5.9977e-05\n",
            "Epoch 26/50\n",
            "25/25 [==============================] - 1s 35ms/step - loss: 4.8482e-05 - val_loss: 5.3947e-05\n",
            "Epoch 27/50\n",
            "25/25 [==============================] - 1s 37ms/step - loss: 5.8266e-05 - val_loss: 1.3520e-04\n",
            "Epoch 28/50\n",
            "25/25 [==============================] - 1s 27ms/step - loss: 5.8738e-05 - val_loss: 4.9678e-05\n",
            "Epoch 29/50\n",
            "25/25 [==============================] - 1s 27ms/step - loss: 6.7733e-05 - val_loss: 1.3850e-04\n",
            "Epoch 30/50\n",
            "25/25 [==============================] - 1s 27ms/step - loss: 7.2921e-05 - val_loss: 1.5708e-04\n",
            "Epoch 31/50\n",
            "25/25 [==============================] - 1s 29ms/step - loss: 6.8945e-05 - val_loss: 2.7333e-04\n",
            "Epoch 32/50\n",
            "25/25 [==============================] - 1s 30ms/step - loss: 6.3149e-05 - val_loss: 3.5694e-04\n",
            "Epoch 33/50\n",
            "25/25 [==============================] - 1s 30ms/step - loss: 4.9063e-05 - val_loss: 3.1941e-04\n",
            "Epoch 34/50\n",
            "25/25 [==============================] - 1s 29ms/step - loss: 5.2807e-05 - val_loss: 3.7751e-04\n",
            "Epoch 35/50\n",
            "25/25 [==============================] - 1s 28ms/step - loss: 4.6765e-05 - val_loss: 8.9246e-05\n",
            "Epoch 36/50\n",
            "25/25 [==============================] - 1s 28ms/step - loss: 4.4171e-05 - val_loss: 1.3002e-04\n",
            "Epoch 37/50\n",
            "25/25 [==============================] - 1s 28ms/step - loss: 4.9225e-05 - val_loss: 4.3856e-04\n",
            "Epoch 38/50\n",
            "25/25 [==============================] - 1s 27ms/step - loss: 6.0033e-05 - val_loss: 1.8996e-04\n",
            "Epoch 39/50\n",
            "25/25 [==============================] - 1s 29ms/step - loss: 4.9718e-05 - val_loss: 9.8349e-05\n",
            "Epoch 40/50\n",
            "25/25 [==============================] - 1s 27ms/step - loss: 5.2829e-05 - val_loss: 1.9683e-04\n",
            "Epoch 41/50\n",
            "25/25 [==============================] - 1s 28ms/step - loss: 4.5425e-05 - val_loss: 2.4982e-04\n",
            "Epoch 42/50\n",
            "25/25 [==============================] - 1s 29ms/step - loss: 4.8988e-05 - val_loss: 3.2703e-04\n",
            "Epoch 43/50\n",
            "25/25 [==============================] - 1s 27ms/step - loss: 6.1244e-05 - val_loss: 4.3340e-04\n",
            "Epoch 44/50\n",
            "25/25 [==============================] - 1s 27ms/step - loss: 5.4925e-05 - val_loss: 3.4396e-04\n",
            "Epoch 45/50\n",
            "25/25 [==============================] - 1s 29ms/step - loss: 5.0707e-05 - val_loss: 4.1675e-04\n",
            "Epoch 46/50\n",
            "25/25 [==============================] - 1s 27ms/step - loss: 8.5095e-05 - val_loss: 6.3017e-04\n",
            "Epoch 47/50\n",
            "25/25 [==============================] - 1s 27ms/step - loss: 6.5906e-05 - val_loss: 6.0006e-04\n",
            "Epoch 48/50\n",
            "25/25 [==============================] - 1s 29ms/step - loss: 7.3265e-05 - val_loss: 8.0303e-04\n",
            "Epoch 49/50\n",
            "25/25 [==============================] - 1s 27ms/step - loss: 5.1974e-05 - val_loss: 3.5114e-04\n",
            "Epoch 50/50\n",
            "25/25 [==============================] - 1s 28ms/step - loss: 4.3237e-05 - val_loss: 2.5747e-04\n"
          ]
        }
      ]
    },
    {
      "cell_type": "code",
      "source": [
        "plt.plot(hist.history['loss'])\n",
        "plt.show()"
      ],
      "metadata": {
        "colab": {
          "base_uri": "https://localhost:8080/",
          "height": 265
        },
        "id": "yCqfxO4rF9vQ",
        "outputId": "391d69a6-c736-44e2-f640-730fc6382522"
      },
      "execution_count": null,
      "outputs": [
        {
          "output_type": "display_data",
          "data": {
            "image/png": "[encoded data removed]",
            "text/plain": [
              "<Figure size 432x288 with 1 Axes>"
            ]
          },
          "metadata": {
            "needs_background": "light"
          }
        }
      ]
    },
    {
      "cell_type": "code",
      "source": [
        "yhat = model.predict(x)"
      ],
      "metadata": {
        "id": "01jyg5VLF9xv"
      },
      "execution_count": null,
      "outputs": []
    },
    {
      "cell_type": "code",
      "source": [
        "plt.hist(yhat, bins=30); plt.show()"
      ],
      "metadata": {
        "colab": {
          "base_uri": "https://localhost:8080/",
          "height": 265
        },
        "id": "H2xGHMtzF9z2",
        "outputId": "8d953222-d8b2-42e5-fd14-4c4f72848f4a"
      },
      "execution_count": null,
      "outputs": [
        {
          "output_type": "display_data",
          "data": {
            "image/png": "[encoded data removed]",
            "text/plain": [
              "<Figure size 432x288 with 1 Axes>"
            ]
          },
          "metadata": {
            "needs_background": "light"
          }
        }
      ]
    },
    {
      "cell_type": "code",
      "source": [
        "plt.plot(S[:,-1], yhat, marker='.', linestyle='none'); plt.show()"
      ],
      "metadata": {
        "colab": {
          "base_uri": "https://localhost:8080/",
          "height": 265
        },
        "id": "ae1jpCc-GAHA",
        "outputId": "bf3d19e4-3733-4e0e-a89d-999f0c5b27a1"
      },
      "execution_count": null,
      "outputs": [
        {
          "output_type": "display_data",
          "data": {
            "image/png": "[encoded data removed]",
            "text/plain": [
              "<Figure size 432x288 with 1 Axes>"
            ]
          },
          "metadata": {
            "needs_background": "light"
          }
        }
      ]
    },
    {
      "cell_type": "code",
      "source": [],
      "metadata": {
        "id": "6yRZuHAdGAKY"
      },
      "execution_count": null,
      "outputs": []
    }
  ]
}