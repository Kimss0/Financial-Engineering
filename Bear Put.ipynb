{
  "nbformat": 4,
  "nbformat_minor": 0,
  "metadata": {
    "colab": {
      "provenance": []
    },
    "kernelspec": {
      "name": "python3",
      "display_name": "Python 3"
    },
    "language_info": {
      "name": "python"
    }
  },
  "cells": [
    {
      "cell_type": "code",
      "execution_count": null,
      "metadata": {
        "id": "VV6QPdepCvCU"
      },
      "outputs": [],
      "source": [
        "import numpy as np\n",
        "import matplotlib.pyplot as plt\n",
        "from scipy.stats import norm\n",
        "\n",
        "import tensorflow as tf"
      ]
    },
    {
      "cell_type": "code",
      "source": [
        "def bscall(S, K, T, r, sig):\n",
        "    d1 = (np.log(S/K)+(r+0.5*sig**2)*T)/(sig*np.sqrt(T))\n",
        "    d2 = (np.log(S/K)+(r-0.5*sig**2)*T)/(sig*np.sqrt(T))\n",
        "    return S*norm.cdf(d1)-K*np.exp(-r*T)*norm.cdf(d2)\n",
        "    \n",
        "def bsput(S, K, T, r, sig):\n",
        "    d1 = (np.log(S/K)+(r+0.5*sig**2)*T)/(sig*np.sqrt(T))\n",
        "    d2 = (np.log(S/K)+(r-0.5*sig**2)*T)/(sig*np.sqrt(T))\n",
        "    return K*np.exp(-r*T)*norm.cdf(-d2)-S*norm.cdf(-d1)"
      ],
      "metadata": {
        "id": "MwrvgfOJCx2h"
      },
      "execution_count": null,
      "outputs": []
    },
    {
      "cell_type": "code",
      "source": [
        "S0 = 1\n",
        "K1, K2 = 0.9, 1.1\n",
        "T = 30/365\n",
        "r = 0.0\n",
        "sig = 0.2\n",
        "\n",
        "M = 1000\n",
        "N = 30\n",
        "\n",
        "dt = T/N\n",
        "rdt = r*dt\n",
        "sigsdt = sig * np.sqrt(dt)"
      ],
      "metadata": {
        "id": "xWk7sSINCx63"
      },
      "execution_count": null,
      "outputs": []
    },
    {
      "cell_type": "code",
      "source": [
        "# np.random.seed(1234)\n",
        "\n",
        "# a=[]\n",
        "# S = np.empty([M,N+1])\n",
        "# rv = np.random.normal(r*dt,sigsdt,[M,N])\n",
        "\n",
        "# for i in range(M):\n",
        "#     cost, hedge = 0,0 \n",
        "#     S[i,0] = S0\n",
        "#     for j in range(N):\n",
        "#         S[i,j+1] = S[i,j] * (1+rv[i,j])\n",
        "#     cost = cost + hedge*S[i,N]\n",
        "\n",
        "#     a.append(cost)\n",
        "    \n",
        "# plt.plot(S[:,-1], a, marker=\".\", linestyle='none')  "
      ],
      "metadata": {
        "id": "H0jQ6XoQCx9a"
      },
      "execution_count": null,
      "outputs": []
    },
    {
      "cell_type": "code",
      "source": [
        "np.random.seed(1234)\n",
        "\n",
        "S = np.empty([M,N+1])\n",
        "rv = np.random.normal(r*dt,sigsdt,[M,N])\n",
        "\n",
        "for i in range(M):\n",
        "    S[i,0] = S0\n",
        "    for j in range(N):\n",
        "        S[i,j+1] = S[i,j] * (1+rv[i,j])"
      ],
      "metadata": {
        "id": "9vorMG0uCyAe"
      },
      "execution_count": null,
      "outputs": []
    },
    {
      "cell_type": "code",
      "source": [
        "def delta_model(model_name=None):\n",
        "    price = tf.keras.layers.Input(shape=(1,))\n",
        "    \n",
        "    delta = tf.keras.layers.Dense(32, activation='leaky_relu', use_bias=False)(price)\n",
        "    delta = tf.keras.layers.BatchNormalization()(delta)\n",
        "    delta = tf.keras.layers.Dense(32, activation='leaky_relu', use_bias=False)(delta)\n",
        "    delta = tf.keras.layers.BatchNormalization()(delta)\n",
        "    delta = tf.keras.layers.Dense(32, activation='leaky_relu', use_bias=False)(delta)\n",
        "    delta = tf.keras.layers.Dense(1, activation='tanh')(delta)\n",
        "\n",
        "    return tf.keras.Model(inputs=price, outputs=delta, name=model_name)"
      ],
      "metadata": {
        "id": "6KTF96ZwCyD2"
      },
      "execution_count": null,
      "outputs": []
    },
    {
      "cell_type": "code",
      "source": [
        "price = tf.keras.layers.Input(shape=(1,), name=\"price\")\n",
        "\n",
        "my_input = [price]\n",
        "\n",
        "hedge_cost = tf.keras.layers.Lambda(lambda x: x*0.0)(price)\n",
        "\n",
        "for j in range(N):\n",
        "    delta = delta_model(model_name=\"delta_\"+str(j))(price)\n",
        "\n",
        "    new_price = tf.keras.layers.Input(shape=(1,), name='S'+str(j+1))\n",
        "    my_input += [new_price]\n",
        "\n",
        "    price_inc = tf.keras.layers.Subtract(name='price_inc_'+str(j))([price, new_price])\n",
        "    cost = tf.keras.layers.Multiply(name=\"stock_\"+str(j))([delta, price_inc])\n",
        "    hedge_cost = tf.keras.layers.Add(name='cost_'+str(j))([hedge_cost, cost])\n",
        "\n",
        "    price = new_price\n",
        "\n",
        "payoff = tf.keras.layers.Input(shape=(1,), name='payoff')\n",
        "my_input += [payoff]\n",
        "\n",
        "cum_cost = tf.keras.layers.Add(name=\"hedge_cost_plus_payoff\")([hedge_cost, payoff])\n",
        "\n",
        "model = tf.keras.Model(inputs=my_input, outputs=cum_cost)\n"
      ],
      "metadata": {
        "id": "Z16clhG3F3JA"
      },
      "execution_count": null,
      "outputs": []
    },
    {
      "cell_type": "code",
      "source": [
        "SS = [S[:,i].reshape(M,1) for i in range(N+1)]\n",
        "# payoff = np.maximum(-S[:,-1]+K1, 0) + np.maximum(S[:,-1]-K2, 0) # long strangle\n",
        "# payoff = np.maximum(S[:,-1]-K1, 0) - 2*np.maximum(S[:,-1]-K2, 0) + np.maximum(S[:,-1]-K3, 0) # Butterfly\n",
        "payoff = np.maximum(K1-S[:,-1], 0) - np.maximum(K2-S[:,-1], 0)\n",
        "x = [SS] + [payoff]\n",
        "# y = (bsput(S0, K1, T, r, sig) + bscall(S0, K2, T, r, sig)) * np.ones([M,1]) # long strangle\n",
        "# y = (bscall(S0, K1, T, r, sig) - 2*bscall(S0, K2, T, r, sig) + bscall(S0, K3, T, r, sig)) * np.ones([M,1]) # Butterfly\n",
        "y= (bsput(S0, K2, T, r, sig) - bsput(S0, K1, T, r, sig)) * np.ones([M,1])"
      ],
      "metadata": {
        "id": "d-sI7mngF3Lc"
      },
      "execution_count": null,
      "outputs": []
    },
    {
      "cell_type": "code",
      "source": [
        "model.compile(loss='mse', optimizer='adam')"
      ],
      "metadata": {
        "id": "UJn7LS8PF3OC"
      },
      "execution_count": null,
      "outputs": []
    },
    {
      "cell_type": "code",
      "source": [
        "hist = model.fit(x,y, batch_size=32, epochs=100, verbose=True, validation_split=0.2, shuffle=True)"
      ],
      "metadata": {
        "colab": {
          "base_uri": "https://localhost:8080/"
        },
        "id": "fapyk9xVF3Qz",
        "outputId": "cb3d53fa-ab5c-4ffe-a145-a98fb7823908"
      },
      "execution_count": null,
      "outputs": [
        {
          "output_type": "stream",
          "name": "stdout",
          "text": [
            "Epoch 1/100\n",
            "25/25 [==============================] - 19s 102ms/step - loss: 0.0021 - val_loss: 0.0021\n",
            "Epoch 2/100\n",
            "25/25 [==============================] - 1s 25ms/step - loss: 5.7722e-04 - val_loss: 0.0017\n",
            "Epoch 3/100\n",
            "25/25 [==============================] - 1s 24ms/step - loss: 2.7058e-04 - val_loss: 0.0015\n",
            "Epoch 4/100\n",
            "25/25 [==============================] - 1s 25ms/step - loss: 1.7240e-04 - val_loss: 0.0013\n",
            "Epoch 5/100\n",
            "25/25 [==============================] - 1s 25ms/step - loss: 1.3038e-04 - val_loss: 0.0011\n",
            "Epoch 6/100\n",
            "25/25 [==============================] - 1s 25ms/step - loss: 1.0081e-04 - val_loss: 9.5771e-04\n",
            "Epoch 7/100\n",
            "25/25 [==============================] - 1s 27ms/step - loss: 8.8352e-05 - val_loss: 8.1161e-04\n",
            "Epoch 8/100\n",
            "25/25 [==============================] - 1s 24ms/step - loss: 9.1123e-05 - val_loss: 6.7210e-04\n",
            "Epoch 9/100\n",
            "25/25 [==============================] - 1s 24ms/step - loss: 8.0991e-05 - val_loss: 5.3799e-04\n",
            "Epoch 10/100\n",
            "25/25 [==============================] - 1s 26ms/step - loss: 8.4387e-05 - val_loss: 4.2113e-04\n",
            "Epoch 11/100\n",
            "25/25 [==============================] - 1s 24ms/step - loss: 6.8160e-05 - val_loss: 3.3499e-04\n",
            "Epoch 12/100\n",
            "25/25 [==============================] - 1s 24ms/step - loss: 6.2139e-05 - val_loss: 2.6006e-04\n",
            "Epoch 13/100\n",
            "25/25 [==============================] - 1s 24ms/step - loss: 4.9999e-05 - val_loss: 2.1381e-04\n",
            "Epoch 14/100\n",
            "25/25 [==============================] - 1s 25ms/step - loss: 8.3042e-05 - val_loss: 1.7397e-04\n",
            "Epoch 15/100\n",
            "25/25 [==============================] - 1s 26ms/step - loss: 6.1515e-05 - val_loss: 1.5985e-04\n",
            "Epoch 16/100\n",
            "25/25 [==============================] - 1s 23ms/step - loss: 5.1018e-05 - val_loss: 1.2308e-04\n",
            "Epoch 17/100\n",
            "25/25 [==============================] - 1s 23ms/step - loss: 5.1988e-05 - val_loss: 1.1600e-04\n",
            "Epoch 18/100\n",
            "25/25 [==============================] - 1s 24ms/step - loss: 5.7932e-05 - val_loss: 9.2606e-05\n",
            "Epoch 19/100\n",
            "25/25 [==============================] - 1s 25ms/step - loss: 8.2843e-05 - val_loss: 1.0887e-04\n",
            "Epoch 20/100\n",
            "25/25 [==============================] - 1s 26ms/step - loss: 6.1291e-05 - val_loss: 1.0907e-04\n",
            "Epoch 21/100\n",
            "25/25 [==============================] - 1s 26ms/step - loss: 5.2662e-05 - val_loss: 9.8446e-05\n",
            "Epoch 22/100\n",
            "25/25 [==============================] - 1s 25ms/step - loss: 4.5416e-05 - val_loss: 7.5357e-05\n",
            "Epoch 23/100\n",
            "25/25 [==============================] - 1s 26ms/step - loss: 5.6364e-05 - val_loss: 7.6103e-05\n",
            "Epoch 24/100\n",
            "25/25 [==============================] - 1s 24ms/step - loss: 5.4121e-05 - val_loss: 6.5298e-05\n",
            "Epoch 25/100\n",
            "25/25 [==============================] - 1s 26ms/step - loss: 5.5805e-05 - val_loss: 5.2190e-05\n",
            "Epoch 26/100\n",
            "25/25 [==============================] - 1s 24ms/step - loss: 7.4568e-05 - val_loss: 1.2158e-04\n",
            "Epoch 27/100\n",
            "25/25 [==============================] - 1s 24ms/step - loss: 6.6475e-05 - val_loss: 9.7122e-05\n",
            "Epoch 28/100\n",
            "25/25 [==============================] - 1s 24ms/step - loss: 5.7632e-05 - val_loss: 3.3492e-04\n",
            "Epoch 29/100\n",
            "25/25 [==============================] - 1s 24ms/step - loss: 7.1470e-05 - val_loss: 4.2960e-04\n",
            "Epoch 30/100\n",
            "25/25 [==============================] - 1s 25ms/step - loss: 4.2739e-05 - val_loss: 4.4777e-04\n",
            "Epoch 31/100\n",
            "25/25 [==============================] - 1s 25ms/step - loss: 5.2561e-05 - val_loss: 2.5404e-04\n",
            "Epoch 32/100\n",
            "25/25 [==============================] - 1s 25ms/step - loss: 5.9504e-05 - val_loss: 2.4186e-04\n",
            "Epoch 33/100\n",
            "25/25 [==============================] - 1s 26ms/step - loss: 5.2003e-05 - val_loss: 1.6712e-04\n",
            "Epoch 34/100\n",
            "25/25 [==============================] - 1s 25ms/step - loss: 6.2108e-05 - val_loss: 6.9599e-04\n",
            "Epoch 35/100\n",
            "25/25 [==============================] - 1s 26ms/step - loss: 6.5639e-05 - val_loss: 3.8114e-04\n",
            "Epoch 36/100\n",
            "25/25 [==============================] - 1s 28ms/step - loss: 6.3515e-05 - val_loss: 4.5298e-04\n",
            "Epoch 37/100\n",
            "25/25 [==============================] - 1s 24ms/step - loss: 5.6990e-05 - val_loss: 2.8996e-04\n",
            "Epoch 38/100\n",
            "25/25 [==============================] - 1s 26ms/step - loss: 4.0460e-05 - val_loss: 2.3479e-04\n",
            "Epoch 39/100\n",
            "25/25 [==============================] - 1s 26ms/step - loss: 5.7851e-05 - val_loss: 4.3272e-04\n",
            "Epoch 40/100\n",
            "25/25 [==============================] - 1s 26ms/step - loss: 5.0875e-05 - val_loss: 3.6626e-04\n",
            "Epoch 41/100\n",
            "25/25 [==============================] - 1s 26ms/step - loss: 6.0317e-05 - val_loss: 4.1471e-04\n",
            "Epoch 42/100\n",
            "25/25 [==============================] - 1s 26ms/step - loss: 5.4144e-05 - val_loss: 2.5997e-04\n",
            "Epoch 43/100\n",
            "25/25 [==============================] - 1s 25ms/step - loss: 5.7228e-05 - val_loss: 3.8466e-04\n",
            "Epoch 44/100\n",
            "25/25 [==============================] - 1s 25ms/step - loss: 4.3001e-05 - val_loss: 2.3478e-04\n",
            "Epoch 45/100\n",
            "25/25 [==============================] - 1s 25ms/step - loss: 3.9720e-05 - val_loss: 7.3287e-05\n",
            "Epoch 46/100\n",
            "25/25 [==============================] - 1s 27ms/step - loss: 3.7922e-05 - val_loss: 5.1442e-05\n",
            "Epoch 47/100\n",
            "25/25 [==============================] - 1s 26ms/step - loss: 5.6394e-05 - val_loss: 2.5303e-04\n",
            "Epoch 48/100\n",
            "25/25 [==============================] - 1s 26ms/step - loss: 5.2955e-05 - val_loss: 4.4605e-04\n",
            "Epoch 49/100\n",
            "25/25 [==============================] - 1s 25ms/step - loss: 3.3831e-05 - val_loss: 1.4939e-04\n",
            "Epoch 50/100\n",
            "25/25 [==============================] - 1s 25ms/step - loss: 3.5372e-05 - val_loss: 7.8126e-05\n",
            "Epoch 51/100\n",
            "25/25 [==============================] - 1s 24ms/step - loss: 2.8697e-05 - val_loss: 6.2279e-05\n",
            "Epoch 52/100\n",
            "25/25 [==============================] - 1s 25ms/step - loss: 3.9402e-05 - val_loss: 2.4222e-04\n",
            "Epoch 53/100\n",
            "25/25 [==============================] - 1s 25ms/step - loss: 5.4121e-05 - val_loss: 1.5044e-04\n",
            "Epoch 54/100\n",
            "25/25 [==============================] - 1s 24ms/step - loss: 4.2646e-05 - val_loss: 7.9500e-05\n",
            "Epoch 55/100\n",
            "25/25 [==============================] - 1s 24ms/step - loss: 3.3908e-05 - val_loss: 9.8016e-05\n",
            "Epoch 56/100\n",
            "25/25 [==============================] - 1s 24ms/step - loss: 4.6065e-05 - val_loss: 7.4596e-05\n",
            "Epoch 57/100\n",
            "25/25 [==============================] - 1s 25ms/step - loss: 4.3705e-05 - val_loss: 5.4908e-05\n",
            "Epoch 58/100\n",
            "25/25 [==============================] - 1s 25ms/step - loss: 4.0409e-05 - val_loss: 9.7051e-05\n",
            "Epoch 59/100\n",
            "25/25 [==============================] - 1s 26ms/step - loss: 3.9067e-05 - val_loss: 1.3790e-04\n",
            "Epoch 60/100\n",
            "25/25 [==============================] - 1s 25ms/step - loss: 5.0195e-05 - val_loss: 2.6514e-04\n",
            "Epoch 61/100\n",
            "25/25 [==============================] - 1s 24ms/step - loss: 4.1317e-05 - val_loss: 2.3498e-05\n",
            "Epoch 62/100\n",
            "25/25 [==============================] - 1s 25ms/step - loss: 3.0959e-05 - val_loss: 8.4447e-05\n",
            "Epoch 63/100\n",
            "25/25 [==============================] - 1s 26ms/step - loss: 3.6485e-05 - val_loss: 6.8542e-05\n",
            "Epoch 64/100\n",
            "25/25 [==============================] - 1s 24ms/step - loss: 4.4151e-05 - val_loss: 5.1110e-05\n",
            "Epoch 65/100\n",
            "25/25 [==============================] - 1s 26ms/step - loss: 3.3209e-05 - val_loss: 1.2548e-04\n",
            "Epoch 66/100\n",
            "25/25 [==============================] - 1s 25ms/step - loss: 3.6213e-05 - val_loss: 1.3665e-04\n",
            "Epoch 67/100\n",
            "25/25 [==============================] - 1s 24ms/step - loss: 3.8724e-05 - val_loss: 1.1962e-04\n",
            "Epoch 68/100\n",
            "25/25 [==============================] - 1s 24ms/step - loss: 4.6478e-05 - val_loss: 2.2882e-04\n",
            "Epoch 69/100\n",
            "25/25 [==============================] - 1s 26ms/step - loss: 4.1965e-05 - val_loss: 1.8260e-04\n",
            "Epoch 70/100\n",
            "25/25 [==============================] - 1s 27ms/step - loss: 3.8922e-05 - val_loss: 1.6437e-04\n",
            "Epoch 71/100\n",
            "25/25 [==============================] - 1s 26ms/step - loss: 3.9691e-05 - val_loss: 2.2462e-04\n",
            "Epoch 72/100\n",
            "25/25 [==============================] - 1s 25ms/step - loss: 4.5724e-05 - val_loss: 2.5040e-04\n",
            "Epoch 73/100\n",
            "25/25 [==============================] - 1s 24ms/step - loss: 4.2506e-05 - val_loss: 1.5371e-04\n",
            "Epoch 74/100\n",
            "25/25 [==============================] - 1s 25ms/step - loss: 3.7268e-05 - val_loss: 1.6761e-04\n",
            "Epoch 75/100\n",
            "25/25 [==============================] - 1s 25ms/step - loss: 4.2318e-05 - val_loss: 1.6632e-04\n",
            "Epoch 76/100\n",
            "25/25 [==============================] - 1s 25ms/step - loss: 4.0988e-05 - val_loss: 1.2664e-04\n",
            "Epoch 77/100\n",
            "25/25 [==============================] - 1s 27ms/step - loss: 4.1251e-05 - val_loss: 1.6036e-04\n",
            "Epoch 78/100\n",
            "25/25 [==============================] - 1s 26ms/step - loss: 3.9775e-05 - val_loss: 1.3589e-04\n",
            "Epoch 79/100\n",
            "25/25 [==============================] - 1s 24ms/step - loss: 4.2439e-05 - val_loss: 3.0741e-04\n",
            "Epoch 80/100\n",
            "25/25 [==============================] - 1s 25ms/step - loss: 4.0514e-05 - val_loss: 1.2828e-04\n",
            "Epoch 81/100\n",
            "25/25 [==============================] - 1s 24ms/step - loss: 4.6135e-05 - val_loss: 1.1384e-04\n",
            "Epoch 82/100\n",
            "25/25 [==============================] - 1s 25ms/step - loss: 4.8612e-05 - val_loss: 3.5816e-04\n",
            "Epoch 83/100\n",
            "25/25 [==============================] - 1s 25ms/step - loss: 3.7032e-05 - val_loss: 3.0205e-04\n",
            "Epoch 84/100\n",
            "25/25 [==============================] - 1s 25ms/step - loss: 3.2391e-05 - val_loss: 1.4416e-04\n",
            "Epoch 85/100\n",
            "25/25 [==============================] - 1s 26ms/step - loss: 4.2078e-05 - val_loss: 4.8170e-04\n",
            "Epoch 86/100\n",
            "25/25 [==============================] - 1s 26ms/step - loss: 3.9587e-05 - val_loss: 6.2965e-05\n",
            "Epoch 87/100\n",
            "25/25 [==============================] - 1s 24ms/step - loss: 3.4654e-05 - val_loss: 7.7503e-05\n",
            "Epoch 88/100\n",
            "25/25 [==============================] - 1s 25ms/step - loss: 3.9837e-05 - val_loss: 8.3269e-05\n",
            "Epoch 89/100\n",
            "25/25 [==============================] - 1s 25ms/step - loss: 3.8636e-05 - val_loss: 1.6650e-04\n",
            "Epoch 90/100\n",
            "25/25 [==============================] - 1s 26ms/step - loss: 4.0542e-05 - val_loss: 1.2045e-04\n",
            "Epoch 91/100\n",
            "25/25 [==============================] - 1s 26ms/step - loss: 2.8128e-05 - val_loss: 2.3198e-04\n",
            "Epoch 92/100\n",
            "25/25 [==============================] - 1s 26ms/step - loss: 4.6588e-05 - val_loss: 1.6045e-04\n",
            "Epoch 93/100\n",
            "25/25 [==============================] - 1s 26ms/step - loss: 2.9194e-05 - val_loss: 1.8177e-04\n",
            "Epoch 94/100\n",
            "25/25 [==============================] - 1s 26ms/step - loss: 3.0176e-05 - val_loss: 1.4049e-04\n",
            "Epoch 95/100\n",
            "25/25 [==============================] - 1s 24ms/step - loss: 4.4548e-05 - val_loss: 9.3659e-05\n",
            "Epoch 96/100\n",
            "25/25 [==============================] - 1s 25ms/step - loss: 2.9253e-05 - val_loss: 9.0972e-05\n",
            "Epoch 97/100\n",
            "25/25 [==============================] - 1s 24ms/step - loss: 3.3891e-05 - val_loss: 1.2067e-04\n",
            "Epoch 98/100\n",
            "25/25 [==============================] - 1s 26ms/step - loss: 2.9496e-05 - val_loss: 1.0609e-04\n",
            "Epoch 99/100\n",
            "25/25 [==============================] - 1s 25ms/step - loss: 3.7871e-05 - val_loss: 1.1091e-04\n",
            "Epoch 100/100\n",
            "25/25 [==============================] - 1s 25ms/step - loss: 4.1138e-05 - val_loss: 1.7622e-04\n"
          ]
        }
      ]
    },
    {
      "cell_type": "code",
      "source": [
        "plt.plot(hist.history['loss'])\n",
        "plt.show()"
      ],
      "metadata": {
        "colab": {
          "base_uri": "https://localhost:8080/",
          "height": 265
        },
        "id": "yCqfxO4rF9vQ",
        "outputId": "f4f705b9-1738-410a-bf12-e3b895839e8b"
      },
      "execution_count": null,
      "outputs": [
        {
          "output_type": "display_data",
          "data": {
            "image/png": "[encoded data removed]",
            "text/plain": [
              "<Figure size 432x288 with 1 Axes>"
            ]
          },
          "metadata": {
            "needs_background": "light"
          }
        }
      ]
    },
    {
      "cell_type": "code",
      "source": [
        "yhat = model.predict(x)"
      ],
      "metadata": {
        "id": "01jyg5VLF9xv"
      },
      "execution_count": null,
      "outputs": []
    },
    {
      "cell_type": "code",
      "source": [
        "plt.hist(yhat, bins=30); plt.show()"
      ],
      "metadata": {
        "colab": {
          "base_uri": "https://localhost:8080/",
          "height": 265
        },
        "id": "H2xGHMtzF9z2",
        "outputId": "77ab64e4-51c1-494d-bce0-e9fa4a9e5d89"
      },
      "execution_count": null,
      "outputs": [
        {
          "output_type": "display_data",
          "data": {
            "image/png": "[encoded data removed]",
            "text/plain": [
              "<Figure size 432x288 with 1 Axes>"
            ]
          },
          "metadata": {
            "needs_background": "light"
          }
        }
      ]
    },
    {
      "cell_type": "code",
      "source": [
        "plt.plot(S[:,-1], yhat, marker='.', linestyle='none'); plt.show()"
      ],
      "metadata": {
        "colab": {
          "base_uri": "https://localhost:8080/",
          "height": 265
        },
        "id": "ae1jpCc-GAHA",
        "outputId": "cd76d38d-b13d-4918-d9f6-924c875b257b"
      },
      "execution_count": null,
      "outputs": [
        {
          "output_type": "display_data",
          "data": {
            "image/png": "[encoded data removed]",
            "text/plain": [
              "<Figure size 432x288 with 1 Axes>"
            ]
          },
          "metadata": {
            "needs_background": "light"
          }
        }
      ]
    },
    {
      "cell_type": "code",
      "source": [],
      "metadata": {
        "id": "6yRZuHAdGAKY"
      },
      "execution_count": null,
      "outputs": []
    }
  ]
}