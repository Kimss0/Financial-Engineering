{
  "nbformat": 4,
  "nbformat_minor": 0,
  "metadata": {
    "colab": {
      "provenance": []
    },
    "kernelspec": {
      "name": "python3",
      "display_name": "Python 3"
    },
    "language_info": {
      "name": "python"
    }
  },
  "cells": [
    {
      "cell_type": "code",
      "execution_count": null,
      "metadata": {
        "id": "VV6QPdepCvCU"
      },
      "outputs": [],
      "source": [
        "import numpy as np\n",
        "import matplotlib.pyplot as plt\n",
        "from scipy.stats import norm\n",
        "\n",
        "import tensorflow as tf"
      ]
    },
    {
      "cell_type": "code",
      "source": [
        "def bscall(S, K, T, r, sig):\n",
        "    d1 = (np.log(S/K)+(r+0.5*sig**2)*T)/(sig*np.sqrt(T))\n",
        "    d2 = (np.log(S/K)+(r-0.5*sig**2)*T)/(sig*np.sqrt(T))\n",
        "    return S*norm.cdf(d1)-K*np.exp(-r*T)*norm.cdf(d2)\n",
        "    \n",
        "def bsput(S, K, T, r, sig):\n",
        "    d1 = (np.log(S/K)+(r+0.5*sig**2)*T)/(sig*np.sqrt(T))\n",
        "    d2 = (np.log(S/K)+(r-0.5*sig**2)*T)/(sig*np.sqrt(T))\n",
        "    return K*np.exp(-r*T)*norm.cdf(-d2)-S*norm.cdf(-d1)"
      ],
      "metadata": {
        "id": "MwrvgfOJCx2h"
      },
      "execution_count": null,
      "outputs": []
    },
    {
      "cell_type": "code",
      "source": [
        "S0 = 1\n",
        "K1, K2, K3 = 0.9, 1.0, 1.1\n",
        "T = 30/365\n",
        "r = 0.0\n",
        "sig = 0.2\n",
        "\n",
        "M = 1000\n",
        "N = 30\n",
        "\n",
        "dt = T/N\n",
        "rdt = r*dt\n",
        "sigsdt = sig * np.sqrt(dt)"
      ],
      "metadata": {
        "id": "xWk7sSINCx63"
      },
      "execution_count": null,
      "outputs": []
    },
    {
      "cell_type": "code",
      "source": [
        "np.random.seed(1234)\n",
        "\n",
        "S = np.empty([M,N+1])\n",
        "rv = np.random.normal(r*dt,sigsdt,[M,N])\n",
        "\n",
        "for i in range(M):\n",
        "    S[i,0] = S0\n",
        "    for j in range(N):\n",
        "        S[i,j+1] = S[i,j] * (1+rv[i,j])"
      ],
      "metadata": {
        "id": "9vorMG0uCyAe"
      },
      "execution_count": null,
      "outputs": []
    },
    {
      "cell_type": "code",
      "source": [
        "def delta_model(model_name=None):\n",
        "    price = tf.keras.layers.Input(shape=(1,))\n",
        "    \n",
        "    delta = tf.keras.layers.Dense(32, activation='leaky_relu', use_bias=False)(price)\n",
        "    delta = tf.keras.layers.BatchNormalization()(delta)\n",
        "    delta = tf.keras.layers.Dense(32, activation='leaky_relu', use_bias=False)(delta)\n",
        "    delta = tf.keras.layers.BatchNormalization()(delta)\n",
        "    delta = tf.keras.layers.Dense(32, activation='leaky_relu', use_bias=False)(delta)\n",
        "    delta = tf.keras.layers.Dense(1, activation='tanh')(delta)\n",
        "\n",
        "    return tf.keras.Model(inputs=price, outputs=delta, name=model_name)"
      ],
      "metadata": {
        "id": "6KTF96ZwCyD2"
      },
      "execution_count": null,
      "outputs": []
    },
    {
      "cell_type": "code",
      "source": [
        "price = tf.keras.layers.Input(shape=(1,), name=\"price\")\n",
        "\n",
        "my_input = [price]\n",
        "\n",
        "hedge_cost = tf.keras.layers.Lambda(lambda x: x*0.0)(price)\n",
        "\n",
        "for j in range(N):\n",
        "    delta = delta_model(model_name=\"delta_\"+str(j))(price)\n",
        "\n",
        "    new_price = tf.keras.layers.Input(shape=(1,), name='S'+str(j+1))\n",
        "    my_input += [new_price]\n",
        "\n",
        "    price_inc = tf.keras.layers.Subtract(name='price_inc_'+str(j))([price, new_price])\n",
        "    cost = tf.keras.layers.Multiply(name=\"stock_\"+str(j))([delta, price_inc])\n",
        "    hedge_cost = tf.keras.layers.Add(name='cost_'+str(j))([hedge_cost, cost])\n",
        "\n",
        "    price = new_price\n",
        "\n",
        "payoff = tf.keras.layers.Input(shape=(1,), name='payoff')\n",
        "my_input += [payoff]\n",
        "\n",
        "cum_cost = tf.keras.layers.Add(name=\"hedge_cost_plus_payoff\")([hedge_cost, payoff])\n",
        "\n",
        "model = tf.keras.Model(inputs=my_input, outputs=cum_cost)\n"
      ],
      "metadata": {
        "id": "Z16clhG3F3JA"
      },
      "execution_count": null,
      "outputs": []
    },
    {
      "cell_type": "code",
      "source": [
        "SS = [S[:,i].reshape(M,1) for i in range(N+1)]\n",
        "# payoff = np.maximum(-S[:,-1]+K1, 0) + np.maximum(S[:,-1]-K2, 0) # long strangle\n",
        "payoff = np.maximum(S[:,-1]-K1, 0) - 2*np.maximum(S[:,-1]-K2, 0) + np.maximum(S[:,-1]-K3, 0) # Butterfly\n",
        "x = [SS] + [payoff]\n",
        "# y = (bsput(S0, K1, T, r, sig) + bscall(S0, K2, T, r, sig)) * np.ones([M,1]) # long strangle\n",
        "y = (bscall(S0, K1, T, r, sig) - 2*bscall(S0, K2, T, r, sig) + bscall(S0, K3, T, r, sig)) * np.ones([M,1]) # Butterfly"
      ],
      "metadata": {
        "id": "d-sI7mngF3Lc"
      },
      "execution_count": null,
      "outputs": []
    },
    {
      "cell_type": "code",
      "source": [
        "model.compile(loss='mse', optimizer='adam')"
      ],
      "metadata": {
        "id": "UJn7LS8PF3OC"
      },
      "execution_count": null,
      "outputs": []
    },
    {
      "cell_type": "code",
      "source": [
        "hist = model.fit(x,y, batch_size=32, epochs=100, verbose=True, validation_split=0.2)"
      ],
      "metadata": {
        "colab": {
          "base_uri": "https://localhost:8080/"
        },
        "id": "fapyk9xVF3Qz",
        "outputId": "77c1de53-e8fe-4cc4-cc24-e1a195de2e27"
      },
      "execution_count": null,
      "outputs": [
        {
          "output_type": "stream",
          "name": "stdout",
          "text": [
            "Epoch 1/100\n",
            "25/25 [==============================] - 20s 123ms/step - loss: 7.1252e-04 - val_loss: 9.0766e-04\n",
            "Epoch 2/100\n",
            "25/25 [==============================] - 1s 30ms/step - loss: 2.6686e-04 - val_loss: 8.9676e-04\n",
            "Epoch 3/100\n",
            "25/25 [==============================] - 1s 30ms/step - loss: 1.9960e-04 - val_loss: 8.8695e-04\n",
            "Epoch 4/100\n",
            "25/25 [==============================] - 1s 29ms/step - loss: 2.0378e-04 - val_loss: 8.8860e-04\n",
            "Epoch 5/100\n",
            "25/25 [==============================] - 1s 28ms/step - loss: 2.2854e-04 - val_loss: 8.8937e-04\n",
            "Epoch 6/100\n",
            "25/25 [==============================] - 1s 29ms/step - loss: 1.9498e-04 - val_loss: 8.8257e-04\n",
            "Epoch 7/100\n",
            "25/25 [==============================] - 1s 29ms/step - loss: 1.7317e-04 - val_loss: 8.7636e-04\n",
            "Epoch 8/100\n",
            "25/25 [==============================] - 1s 28ms/step - loss: 1.8721e-04 - val_loss: 8.6356e-04\n",
            "Epoch 9/100\n",
            "25/25 [==============================] - 1s 28ms/step - loss: 1.8552e-04 - val_loss: 8.5170e-04\n",
            "Epoch 10/100\n",
            "25/25 [==============================] - 1s 28ms/step - loss: 2.1392e-04 - val_loss: 8.3287e-04\n",
            "Epoch 11/100\n",
            "25/25 [==============================] - 1s 30ms/step - loss: 1.9584e-04 - val_loss: 8.0246e-04\n",
            "Epoch 12/100\n",
            "25/25 [==============================] - 1s 30ms/step - loss: 1.9168e-04 - val_loss: 7.9217e-04\n",
            "Epoch 13/100\n",
            "25/25 [==============================] - 1s 29ms/step - loss: 1.8337e-04 - val_loss: 7.3782e-04\n",
            "Epoch 14/100\n",
            "25/25 [==============================] - 1s 30ms/step - loss: 1.9617e-04 - val_loss: 7.2219e-04\n",
            "Epoch 15/100\n",
            "25/25 [==============================] - 1s 30ms/step - loss: 1.7908e-04 - val_loss: 6.7738e-04\n",
            "Epoch 16/100\n",
            "25/25 [==============================] - 1s 29ms/step - loss: 1.4940e-04 - val_loss: 5.8587e-04\n",
            "Epoch 17/100\n",
            "25/25 [==============================] - 1s 30ms/step - loss: 2.0537e-04 - val_loss: 5.2930e-04\n",
            "Epoch 18/100\n",
            "25/25 [==============================] - 1s 30ms/step - loss: 1.6940e-04 - val_loss: 5.2032e-04\n",
            "Epoch 19/100\n",
            "25/25 [==============================] - 1s 29ms/step - loss: 1.7293e-04 - val_loss: 5.0335e-04\n",
            "Epoch 20/100\n",
            "25/25 [==============================] - 1s 29ms/step - loss: 1.8892e-04 - val_loss: 5.5469e-04\n",
            "Epoch 21/100\n",
            "25/25 [==============================] - 1s 29ms/step - loss: 1.7791e-04 - val_loss: 4.3622e-04\n",
            "Epoch 22/100\n",
            "25/25 [==============================] - 1s 31ms/step - loss: 1.5593e-04 - val_loss: 3.8795e-04\n",
            "Epoch 23/100\n",
            "25/25 [==============================] - 1s 30ms/step - loss: 1.5383e-04 - val_loss: 3.7756e-04\n",
            "Epoch 24/100\n",
            "25/25 [==============================] - 1s 29ms/step - loss: 1.8213e-04 - val_loss: 3.7271e-04\n",
            "Epoch 25/100\n",
            "25/25 [==============================] - 1s 28ms/step - loss: 1.5105e-04 - val_loss: 4.0810e-04\n",
            "Epoch 26/100\n",
            "25/25 [==============================] - 1s 29ms/step - loss: 1.8954e-04 - val_loss: 3.4975e-04\n",
            "Epoch 27/100\n",
            "25/25 [==============================] - 1s 29ms/step - loss: 1.7675e-04 - val_loss: 3.1312e-04\n",
            "Epoch 28/100\n",
            "25/25 [==============================] - 1s 29ms/step - loss: 1.5794e-04 - val_loss: 2.7542e-04\n",
            "Epoch 29/100\n",
            "25/25 [==============================] - 1s 29ms/step - loss: 1.1968e-04 - val_loss: 3.2675e-04\n",
            "Epoch 30/100\n",
            "25/25 [==============================] - 1s 28ms/step - loss: 1.6851e-04 - val_loss: 3.0145e-04\n",
            "Epoch 31/100\n",
            "25/25 [==============================] - 1s 28ms/step - loss: 1.5264e-04 - val_loss: 2.8633e-04\n",
            "Epoch 32/100\n",
            "25/25 [==============================] - 1s 28ms/step - loss: 1.4788e-04 - val_loss: 3.5797e-04\n",
            "Epoch 33/100\n",
            "25/25 [==============================] - 1s 30ms/step - loss: 1.6277e-04 - val_loss: 2.3269e-04\n",
            "Epoch 34/100\n",
            "25/25 [==============================] - 1s 28ms/step - loss: 1.8929e-04 - val_loss: 3.0294e-04\n",
            "Epoch 35/100\n",
            "25/25 [==============================] - 1s 28ms/step - loss: 1.4761e-04 - val_loss: 4.3034e-04\n",
            "Epoch 36/100\n",
            "25/25 [==============================] - 1s 29ms/step - loss: 1.6538e-04 - val_loss: 4.6894e-04\n",
            "Epoch 37/100\n",
            "25/25 [==============================] - 1s 30ms/step - loss: 1.7034e-04 - val_loss: 4.0908e-04\n",
            "Epoch 38/100\n",
            "25/25 [==============================] - 1s 31ms/step - loss: 1.9037e-04 - val_loss: 7.5553e-04\n",
            "Epoch 39/100\n",
            "25/25 [==============================] - 1s 29ms/step - loss: 1.4617e-04 - val_loss: 4.8927e-04\n",
            "Epoch 40/100\n",
            "25/25 [==============================] - 1s 29ms/step - loss: 1.5138e-04 - val_loss: 5.9010e-04\n",
            "Epoch 41/100\n",
            "25/25 [==============================] - 1s 28ms/step - loss: 1.5252e-04 - val_loss: 3.6495e-04\n",
            "Epoch 42/100\n",
            "25/25 [==============================] - 1s 29ms/step - loss: 1.4057e-04 - val_loss: 3.8968e-04\n",
            "Epoch 43/100\n",
            "25/25 [==============================] - 1s 32ms/step - loss: 1.3734e-04 - val_loss: 2.4175e-04\n",
            "Epoch 44/100\n",
            "25/25 [==============================] - 1s 30ms/step - loss: 1.4696e-04 - val_loss: 4.0430e-04\n",
            "Epoch 45/100\n",
            "25/25 [==============================] - 1s 29ms/step - loss: 1.4972e-04 - val_loss: 5.6300e-04\n",
            "Epoch 46/100\n",
            "25/25 [==============================] - 1s 30ms/step - loss: 1.9569e-04 - val_loss: 4.2744e-04\n",
            "Epoch 47/100\n",
            "25/25 [==============================] - 1s 32ms/step - loss: 1.7531e-04 - val_loss: 4.5604e-04\n",
            "Epoch 48/100\n",
            "25/25 [==============================] - 1s 30ms/step - loss: 1.6403e-04 - val_loss: 4.2697e-04\n",
            "Epoch 49/100\n",
            "25/25 [==============================] - 1s 29ms/step - loss: 1.5836e-04 - val_loss: 4.3983e-04\n",
            "Epoch 50/100\n",
            "25/25 [==============================] - 1s 29ms/step - loss: 1.5078e-04 - val_loss: 4.7185e-04\n",
            "Epoch 51/100\n",
            "25/25 [==============================] - 1s 32ms/step - loss: 1.3228e-04 - val_loss: 4.3524e-04\n",
            "Epoch 52/100\n",
            "25/25 [==============================] - 1s 30ms/step - loss: 1.4133e-04 - val_loss: 3.7758e-04\n",
            "Epoch 53/100\n",
            "25/25 [==============================] - 1s 31ms/step - loss: 1.7977e-04 - val_loss: 3.8608e-04\n",
            "Epoch 54/100\n",
            "25/25 [==============================] - 1s 29ms/step - loss: 1.7089e-04 - val_loss: 4.7003e-04\n",
            "Epoch 55/100\n",
            "25/25 [==============================] - 1s 30ms/step - loss: 1.6267e-04 - val_loss: 4.3319e-04\n",
            "Epoch 56/100\n",
            "25/25 [==============================] - 1s 30ms/step - loss: 1.6527e-04 - val_loss: 5.6545e-04\n",
            "Epoch 57/100\n",
            "25/25 [==============================] - 1s 30ms/step - loss: 1.4478e-04 - val_loss: 3.5886e-04\n",
            "Epoch 58/100\n",
            "25/25 [==============================] - 1s 30ms/step - loss: 1.6062e-04 - val_loss: 2.9794e-04\n",
            "Epoch 59/100\n",
            "25/25 [==============================] - 1s 28ms/step - loss: 1.4915e-04 - val_loss: 2.8208e-04\n",
            "Epoch 60/100\n",
            "25/25 [==============================] - 1s 29ms/step - loss: 1.3233e-04 - val_loss: 4.2926e-04\n",
            "Epoch 61/100\n",
            "25/25 [==============================] - 1s 30ms/step - loss: 1.6423e-04 - val_loss: 2.4172e-04\n",
            "Epoch 62/100\n",
            "25/25 [==============================] - 1s 31ms/step - loss: 1.4485e-04 - val_loss: 3.1078e-04\n",
            "Epoch 63/100\n",
            "25/25 [==============================] - 1s 30ms/step - loss: 1.3612e-04 - val_loss: 2.9465e-04\n",
            "Epoch 64/100\n",
            "25/25 [==============================] - 1s 29ms/step - loss: 1.4432e-04 - val_loss: 3.5343e-04\n",
            "Epoch 65/100\n",
            "25/25 [==============================] - 1s 29ms/step - loss: 1.4900e-04 - val_loss: 3.0122e-04\n",
            "Epoch 66/100\n",
            "25/25 [==============================] - 1s 29ms/step - loss: 1.4543e-04 - val_loss: 2.9987e-04\n",
            "Epoch 67/100\n",
            "25/25 [==============================] - 1s 32ms/step - loss: 1.5548e-04 - val_loss: 3.5229e-04\n",
            "Epoch 68/100\n",
            "25/25 [==============================] - 1s 31ms/step - loss: 1.4406e-04 - val_loss: 4.5421e-04\n",
            "Epoch 69/100\n",
            "25/25 [==============================] - 1s 29ms/step - loss: 1.3686e-04 - val_loss: 3.6725e-04\n",
            "Epoch 70/100\n",
            "25/25 [==============================] - 1s 31ms/step - loss: 1.4329e-04 - val_loss: 3.2808e-04\n",
            "Epoch 71/100\n",
            "25/25 [==============================] - 1s 29ms/step - loss: 1.3594e-04 - val_loss: 2.8757e-04\n",
            "Epoch 72/100\n",
            "25/25 [==============================] - 1s 30ms/step - loss: 1.5343e-04 - val_loss: 4.2826e-04\n",
            "Epoch 73/100\n",
            "25/25 [==============================] - 1s 30ms/step - loss: 1.4283e-04 - val_loss: 3.0327e-04\n",
            "Epoch 74/100\n",
            "25/25 [==============================] - 1s 30ms/step - loss: 1.5468e-04 - val_loss: 4.7015e-04\n",
            "Epoch 75/100\n",
            "25/25 [==============================] - 1s 31ms/step - loss: 1.4488e-04 - val_loss: 2.7773e-04\n",
            "Epoch 76/100\n",
            "25/25 [==============================] - 1s 29ms/step - loss: 1.4011e-04 - val_loss: 2.3551e-04\n",
            "Epoch 77/100\n",
            "25/25 [==============================] - 1s 32ms/step - loss: 1.3453e-04 - val_loss: 3.0590e-04\n",
            "Epoch 78/100\n",
            "25/25 [==============================] - 1s 32ms/step - loss: 1.4624e-04 - val_loss: 3.3380e-04\n",
            "Epoch 79/100\n",
            "25/25 [==============================] - 1s 29ms/step - loss: 1.7407e-04 - val_loss: 6.5719e-04\n",
            "Epoch 80/100\n",
            "25/25 [==============================] - 1s 30ms/step - loss: 1.6904e-04 - val_loss: 3.1655e-04\n",
            "Epoch 81/100\n",
            "25/25 [==============================] - 1s 29ms/step - loss: 1.3907e-04 - val_loss: 3.4495e-04\n",
            "Epoch 82/100\n",
            "25/25 [==============================] - 1s 30ms/step - loss: 1.6591e-04 - val_loss: 5.8699e-04\n",
            "Epoch 83/100\n",
            "25/25 [==============================] - 1s 29ms/step - loss: 1.3068e-04 - val_loss: 3.8716e-04\n",
            "Epoch 84/100\n",
            "25/25 [==============================] - 1s 30ms/step - loss: 1.3463e-04 - val_loss: 3.6757e-04\n",
            "Epoch 85/100\n",
            "25/25 [==============================] - 1s 31ms/step - loss: 1.7844e-04 - val_loss: 3.3355e-04\n",
            "Epoch 86/100\n",
            "25/25 [==============================] - 1s 29ms/step - loss: 1.4009e-04 - val_loss: 4.6032e-04\n",
            "Epoch 87/100\n",
            "25/25 [==============================] - 1s 29ms/step - loss: 1.4371e-04 - val_loss: 3.2632e-04\n",
            "Epoch 88/100\n",
            "25/25 [==============================] - 1s 29ms/step - loss: 1.4833e-04 - val_loss: 5.7182e-04\n",
            "Epoch 89/100\n",
            "25/25 [==============================] - 1s 29ms/step - loss: 1.4267e-04 - val_loss: 3.9057e-04\n",
            "Epoch 90/100\n",
            "25/25 [==============================] - 1s 29ms/step - loss: 1.3692e-04 - val_loss: 3.6943e-04\n",
            "Epoch 91/100\n",
            "25/25 [==============================] - 1s 31ms/step - loss: 1.3013e-04 - val_loss: 3.8708e-04\n",
            "Epoch 92/100\n",
            "25/25 [==============================] - 1s 31ms/step - loss: 1.4914e-04 - val_loss: 2.9488e-04\n",
            "Epoch 93/100\n",
            "25/25 [==============================] - 1s 33ms/step - loss: 1.3815e-04 - val_loss: 3.0897e-04\n",
            "Epoch 94/100\n",
            "25/25 [==============================] - 1s 31ms/step - loss: 1.1963e-04 - val_loss: 3.5357e-04\n",
            "Epoch 95/100\n",
            "25/25 [==============================] - 1s 31ms/step - loss: 1.4056e-04 - val_loss: 5.7272e-04\n",
            "Epoch 96/100\n",
            "25/25 [==============================] - 1s 32ms/step - loss: 1.3222e-04 - val_loss: 4.1753e-04\n",
            "Epoch 97/100\n",
            "25/25 [==============================] - 1s 31ms/step - loss: 1.4199e-04 - val_loss: 4.3470e-04\n",
            "Epoch 98/100\n",
            "25/25 [==============================] - 1s 30ms/step - loss: 1.4161e-04 - val_loss: 4.8964e-04\n",
            "Epoch 99/100\n",
            "25/25 [==============================] - 1s 30ms/step - loss: 1.8466e-04 - val_loss: 6.9859e-04\n",
            "Epoch 100/100\n",
            "25/25 [==============================] - 1s 33ms/step - loss: 1.4701e-04 - val_loss: 4.9251e-04\n"
          ]
        }
      ]
    },
    {
      "cell_type": "code",
      "source": [
        "plt.plot(hist.history['loss'])\n",
        "plt.show()"
      ],
      "metadata": {
        "colab": {
          "base_uri": "https://localhost:8080/",
          "height": 265
        },
        "id": "yCqfxO4rF9vQ",
        "outputId": "213fb7c5-9926-47a9-eafa-fc1a88e90504"
      },
      "execution_count": null,
      "outputs": [
        {
          "output_type": "display_data",
          "data": {
            "image/png": "[encoded data removed]",
            "text/plain": [
              "<Figure size 432x288 with 1 Axes>"
            ]
          },
          "metadata": {
            "needs_background": "light"
          }
        }
      ]
    },
    {
      "cell_type": "code",
      "source": [
        "yhat = model.predict(x)"
      ],
      "metadata": {
        "id": "01jyg5VLF9xv"
      },
      "execution_count": null,
      "outputs": []
    },
    {
      "cell_type": "code",
      "source": [
        "plt.hist(yhat, bins=30); plt.show()"
      ],
      "metadata": {
        "colab": {
          "base_uri": "https://localhost:8080/",
          "height": 265
        },
        "id": "H2xGHMtzF9z2",
        "outputId": "aea79843-30ee-4166-cb8b-23f8163367de"
      },
      "execution_count": null,
      "outputs": [
        {
          "output_type": "display_data",
          "data": {
            "image/png": "[encoded data removed]",
            "text/plain": [
              "<Figure size 432x288 with 1 Axes>"
            ]
          },
          "metadata": {
            "needs_background": "light"
          }
        }
      ]
    },
    {
      "cell_type": "code",
      "source": [
        "plt.plot(S[:,-1], yhat, marker='.', linestyle='none'); plt.show()"
      ],
      "metadata": {
        "colab": {
          "base_uri": "https://localhost:8080/",
          "height": 265
        },
        "id": "ae1jpCc-GAHA",
        "outputId": "02adb802-2c80-4051-9eb9-d4cd58e6b5e2"
      },
      "execution_count": null,
      "outputs": [
        {
          "output_type": "display_data",
          "data": {
            "image/png": "[encoded data removed]",
            "text/plain": [
              "<Figure size 432x288 with 1 Axes>"
            ]
          },
          "metadata": {
            "needs_background": "light"
          }
        }
      ]
    },
    {
      "cell_type": "code",
      "source": [],
      "metadata": {
        "id": "6yRZuHAdGAKY"
      },
      "execution_count": null,
      "outputs": []
    }
  ]
}